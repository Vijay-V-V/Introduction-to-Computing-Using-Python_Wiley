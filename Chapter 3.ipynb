{
 "cells": [
  {
   "cell_type": "markdown",
   "metadata": {},
   "source": [
    "# Practice Problems"
   ]
  },
  {
   "cell_type": "markdown",
   "metadata": {},
   "source": [
    "3.1\n",
    "\n",
    "Implement a program that requests the current temperature in degrees Fahrenheit from the\n",
    "user and prints the temperature in degrees Celsius using the formula\n",
    "celsius =\n",
    "5/\n",
    "9\n",
    "(fahrenheit − 32)\n"
   ]
  },
  {
   "cell_type": "code",
   "execution_count": 3,
   "metadata": {},
   "outputs": [
    {
     "name": "stdout",
     "output_type": "stream",
     "text": [
      "Enter the temperature in degrees Farenheit: 50\n",
      "The temperature in degree Celsius is:  10.0\n"
     ]
    }
   ],
   "source": [
    "x=input(\"Enter the temperature in degrees Farenheit: \")\n",
    "x=int(x)\n",
    "c=(5*(x-32))/9\n",
    "print(\"The temperature in degree Celsius is: \",c)"
   ]
  },
  {
   "cell_type": "markdown",
   "metadata": {},
   "source": [
    "3.2\n",
    "\n",
    "Translate these conditional statements into Python if statements:\n",
    "(a) If age is greater 62, print 'You can get your pension benefits'.\n",
    "(b) If name is in list ['Musial', 'Aaraon', 'Williams', 'Gehrig', 'Ruth'],\n",
    "print 'One of the top 5 baseball players, ever!'.\n",
    "(c) If hits is greater than 10 and shield is 0, print 'You are dead...'.\n",
    "(d) If at least one of the Boolean variables north, south, east, and west is True, print\n",
    "'I can escape.'."
   ]
  },
  {
   "cell_type": "code",
   "execution_count": null,
   "metadata": {},
   "outputs": [],
   "source": [
    "#(a)\n",
    "if age>62:\n",
    "    print(\"You can get your pension benefits\")\n",
    "    \n",
    "#(b)\n",
    "if name in ['Musial', 'Aaraon', 'Williams', 'Gehrig', 'Ruth']:\n",
    "    print('One of the top 5 baseball players, ever!')\n",
    "    \n",
    "#(c)\n",
    "if hits>10 and shield==0:\n",
    "    print('You are dead...')\n",
    "    \n",
    "#(d)\n",
    "if north or south or east or west\n",
    "    print('I can escape')"
   ]
  },
  {
   "cell_type": "markdown",
   "metadata": {},
   "source": [
    "3.3\n",
    "\n",
    "Translate these into Python if/else statements:\n",
    "(a) If year is divisible by 4, print 'Could be a leap year.'; otherwise print 'Definitely not\n",
    "a leap year.'\n",
    "(b) If list ticket is equal to list lottery, print 'You won!'; else print 'Better luck next\n",
    "time...'"
   ]
  },
  {
   "cell_type": "code",
   "execution_count": null,
   "metadata": {},
   "outputs": [],
   "source": [
    "#(a)\n",
    "if year%4==0:\n",
    "    print(\"Could be leap year\")\n",
    "else:\n",
    "    print(\"Definitely not a leap year\")\n",
    "\n",
    "#(b)\n",
    "if ticket==lottery:\n",
    "    print(\"You won!\")\n",
    "else\n",
    "    print(\"Better luck next time\")"
   ]
  },
  {
   "cell_type": "markdown",
   "metadata": {},
   "source": [
    "3.4\n",
    "\n",
    "Implement a program that starts by asking the user to enter a login id (i.e., a string). The\n",
    "program then checks whether the id entered by the user is in the list ['joe', 'sue',\n",
    "'hani', 'sophie'] of valid users. Depending on the outcome, an appropriate message\n",
    "should be printed. Regardless of the outcome, your function should print 'Done.' before\n",
    "terminating."
   ]
  },
  {
   "cell_type": "code",
   "execution_count": 7,
   "metadata": {},
   "outputs": [
    {
     "name": "stdout",
     "output_type": "stream",
     "text": [
      "Login: joe\n",
      "Youre in\n",
      "Done.\n"
     ]
    }
   ],
   "source": [
    "x=input(\"Login: \")\n",
    "if x in['joe','sue','hani','sophie']:\n",
    "    print(\"Youre in\")\n",
    "else:\n",
    "    print(\"User unknown\")\n",
    "print(\"Done.\")"
   ]
  },
  {
   "cell_type": "markdown",
   "metadata": {},
   "source": [
    "3.5\n",
    "\n",
    "Implement a program that requests from the user a list of words (i.e., strings) and then prints\n",
    "on the screen, one per line, all four-letter strings in the list.\n"
   ]
  },
  {
   "cell_type": "code",
   "execution_count": 3,
   "metadata": {},
   "outputs": [
    {
     "name": "stdout",
     "output_type": "stream",
     "text": [
      "Enter word list: joe anne love asdfg\n"
     ]
    }
   ],
   "source": [
    "word=input(\"Enter word list: \")\n",
    "for i in word:\n",
    "    if len(i)==4:\n",
    "        print(i)"
   ]
  },
  {
   "cell_type": "markdown",
   "metadata": {},
   "source": [
    "3.6\n",
    "\n",
    "Write the for loop that will print these sequences of numbers, one per line, in the interactive\n",
    "shell.\n",
    "(a) Integers from 0 to 9 (i.e., 0, 1, 2, 3, 4, 5, 6, 7, 8, 9)\n",
    "(b) Integers from 0 to 1 (i.e., 0, 1)"
   ]
  },
  {
   "cell_type": "code",
   "execution_count": 8,
   "metadata": {
    "scrolled": true
   },
   "outputs": [
    {
     "name": "stdout",
     "output_type": "stream",
     "text": [
      "0\n",
      "1\n",
      "2\n",
      "3\n",
      "4\n",
      "5\n",
      "6\n",
      "7\n",
      "8\n",
      "9\n"
     ]
    }
   ],
   "source": [
    "#(a)\n",
    "for i in range(0,10):\n",
    "    print(i)"
   ]
  },
  {
   "cell_type": "code",
   "execution_count": 9,
   "metadata": {},
   "outputs": [
    {
     "name": "stdout",
     "output_type": "stream",
     "text": [
      "0\n",
      "1\n"
     ]
    }
   ],
   "source": [
    "#(b)\n",
    "for i in range(0,2):\n",
    "    print(i)"
   ]
  },
  {
   "cell_type": "markdown",
   "metadata": {},
   "source": [
    "3.7\n",
    "\n",
    "Write the for loop that will print the following sequences of numbers, one per line.\n",
    "(a) Integers from 3 up to and including 12\n",
    "(b) Integers from 0 up to but not including 9, but with a step of 2 instead of the default\n",
    "of 1 (i.e., 0, 2, 4, 6, 8)\n",
    "(c) Integers from 0 up to but not including 24 with a step of 3\n",
    "(d) Integers from 3 up to but not including 12 with a step of 5"
   ]
  },
  {
   "cell_type": "code",
   "execution_count": 10,
   "metadata": {},
   "outputs": [
    {
     "name": "stdout",
     "output_type": "stream",
     "text": [
      "3\n",
      "4\n",
      "5\n",
      "6\n",
      "7\n",
      "8\n",
      "9\n",
      "10\n",
      "11\n",
      "12\n"
     ]
    }
   ],
   "source": [
    "#(a)\n",
    "for i in range(3,13):\n",
    "    print(i)"
   ]
  },
  {
   "cell_type": "code",
   "execution_count": 11,
   "metadata": {},
   "outputs": [
    {
     "name": "stdout",
     "output_type": "stream",
     "text": [
      "0\n",
      "2\n",
      "4\n",
      "6\n",
      "8\n"
     ]
    }
   ],
   "source": [
    "#(b)\n",
    "for i in range(0,9,2):\n",
    "    print(i)"
   ]
  },
  {
   "cell_type": "code",
   "execution_count": 12,
   "metadata": {},
   "outputs": [
    {
     "name": "stdout",
     "output_type": "stream",
     "text": [
      "0\n",
      "3\n",
      "6\n",
      "9\n",
      "12\n",
      "15\n",
      "18\n",
      "21\n"
     ]
    }
   ],
   "source": [
    "#(c)\n",
    "for i in range(0,24,3):\n",
    "    print(i)"
   ]
  },
  {
   "cell_type": "code",
   "execution_count": 13,
   "metadata": {},
   "outputs": [
    {
     "name": "stdout",
     "output_type": "stream",
     "text": [
      "0\n",
      "5\n",
      "10\n"
     ]
    }
   ],
   "source": [
    "#(d)\n",
    "for i in range(0,12,5):\n",
    "    print(i)"
   ]
  },
  {
   "cell_type": "markdown",
   "metadata": {},
   "source": [
    "3.8\n",
    "\n",
    "Define, directly in the interactive shell, function perimeter() that takes, as input, the ra\u0002dius of a circle (a nonnegative number) and returns the perimeter of the circle. A sample\n",
    "usage is:\n",
    " perimeter(1)\n",
    "6.283185307179586\n",
    " perimeter (2)\n",
    "12.566370614359172\n",
    "Remember that you will need the value of π (defined in module math) to compute the\n",
    "perimeter.\n"
   ]
  },
  {
   "cell_type": "code",
   "execution_count": 19,
   "metadata": {},
   "outputs": [
    {
     "data": {
      "text/plain": [
       "6.283185307179586"
      ]
     },
     "execution_count": 19,
     "metadata": {},
     "output_type": "execute_result"
    }
   ],
   "source": [
    "import math as m\n",
    "def perimeter(radius):\n",
    "    return(2*m.pi*radius)\n",
    "perimeter(1)"
   ]
  },
  {
   "cell_type": "markdown",
   "metadata": {},
   "source": [
    "3.9\n",
    "\n",
    "Implement function average() that takes two numbers as input and returns the average of\n",
    "the numbers. You should write your implementation in a module you will name average.py.\n"
   ]
  },
  {
   "cell_type": "code",
   "execution_count": 22,
   "metadata": {},
   "outputs": [
    {
     "data": {
      "text/plain": [
       "3.0"
      ]
     },
     "execution_count": 22,
     "metadata": {},
     "output_type": "execute_result"
    }
   ],
   "source": [
    "def average(x,y):\n",
    "    return((x+y)/2)\n",
    "average(2,4)"
   ]
  },
  {
   "cell_type": "markdown",
   "metadata": {},
   "source": [
    "3.10\n",
    "\n",
    "Implement function noVowel() that takes a string s as input and returns True if no char\u0002acter in s is a vowel, and False otherwise (i.e., some character in s is a vowel).\n"
   ]
  },
  {
   "cell_type": "code",
   "execution_count": 43,
   "metadata": {},
   "outputs": [
    {
     "data": {
      "text/plain": [
       "False"
      ]
     },
     "execution_count": 43,
     "metadata": {},
     "output_type": "execute_result"
    }
   ],
   "source": [
    "def noVowel(s):\n",
    "    for i in s:\n",
    "        if i in 'aeiou':\n",
    "            return(False)\n",
    "    return(True)\n",
    "noVowel('vijay')"
   ]
  },
  {
   "cell_type": "markdown",
   "metadata": {},
   "source": [
    "3.11\n",
    "\n",
    "Implement function allEven() that takes a list of integers and returns True if all integers\n",
    "in the list are even, and False otherwise.\n"
   ]
  },
  {
   "cell_type": "code",
   "execution_count": 57,
   "metadata": {},
   "outputs": [
    {
     "data": {
      "text/plain": [
       "True"
      ]
     },
     "execution_count": 57,
     "metadata": {},
     "output_type": "execute_result"
    }
   ],
   "source": [
    "def allEven(lis):\n",
    "    for i in lis:\n",
    "        if abs(i)%2!=0:\n",
    "            return(False)    \n",
    "    return(True)\n",
    "allEven([4, 0, -2, 4, -6, 12])"
   ]
  },
  {
   "cell_type": "markdown",
   "metadata": {},
   "source": [
    "3.12\n",
    "\n",
    "Write function negatives() that takes a list as input and prints, one per line, the negative\n",
    "values in the list. The function should not return anything."
   ]
  },
  {
   "cell_type": "code",
   "execution_count": 58,
   "metadata": {},
   "outputs": [
    {
     "name": "stdout",
     "output_type": "stream",
     "text": [
      "-1\n",
      "-3\n",
      "-9\n"
     ]
    }
   ],
   "source": [
    "def negatives(lis1):\n",
    "    for i in lis1:\n",
    "        if i<0:\n",
    "            print(i)\n",
    "negatives([4, 0, -1, -3, 6, -9])"
   ]
  },
  {
   "cell_type": "markdown",
   "metadata": {},
   "source": [
    "# Exercises\n",
    "3.17\n",
    "\n",
    "3.17 Use the eval() function to evaluate these strings as Python expressions:\n",
    "(a) '2 * 3 + 1'\n",
    "(b) 'hello'\n",
    "(c) \"'hello' + ' ' + 'world!'\"\n",
    "(d) \"'ASCII'.count('I')\"\n",
    "(e) 'x = 5'\n"
   ]
  },
  {
   "cell_type": "code",
   "execution_count": 2,
   "metadata": {},
   "outputs": [
    {
     "data": {
      "text/plain": [
       "7"
      ]
     },
     "execution_count": 2,
     "metadata": {},
     "output_type": "execute_result"
    }
   ],
   "source": [
    "eval('2*3+1')"
   ]
  },
  {
   "cell_type": "code",
   "execution_count": 3,
   "metadata": {
    "collapsed": true
   },
   "outputs": [
    {
     "ename": "SyntaxError",
     "evalue": "invalid syntax (<string>, line 1)",
     "output_type": "error",
     "traceback": [
      "Traceback \u001b[1;36m(most recent call last)\u001b[0m:\n",
      "  File \u001b[0;32m\"C:\\Users\\user\\anaconda3\\lib\\site-packages\\IPython\\core\\interactiveshell.py\"\u001b[0m, line \u001b[0;32m3418\u001b[0m, in \u001b[0;35mrun_code\u001b[0m\n    exec(code_obj, self.user_global_ns, self.user_ns)\n",
      "\u001b[1;36m  File \u001b[1;32m\"<ipython-input-3-125aa5e4d801>\"\u001b[1;36m, line \u001b[1;32m1\u001b[1;36m, in \u001b[1;35m<module>\u001b[1;36m\u001b[0m\n\u001b[1;33m    eval('x=5')\u001b[0m\n",
      "\u001b[1;36m  File \u001b[1;32m\"<string>\"\u001b[1;36m, line \u001b[1;32m1\u001b[0m\n\u001b[1;33m    x=5\u001b[0m\n\u001b[1;37m     ^\u001b[0m\n\u001b[1;31mSyntaxError\u001b[0m\u001b[1;31m:\u001b[0m invalid syntax\n"
     ]
    }
   ],
   "source": [
    "eval('x=5') #Error\n"
   ]
  },
  {
   "cell_type": "code",
   "execution_count": 4,
   "metadata": {},
   "outputs": [
    {
     "data": {
      "text/plain": [
       "'hello world!'"
      ]
     },
     "execution_count": 4,
     "metadata": {},
     "output_type": "execute_result"
    }
   ],
   "source": [
    "eval(\"'hello' + ' ' + 'world!'\")"
   ]
  },
  {
   "cell_type": "code",
   "execution_count": 5,
   "metadata": {},
   "outputs": [
    {
     "data": {
      "text/plain": [
       "2"
      ]
     },
     "execution_count": 5,
     "metadata": {},
     "output_type": "execute_result"
    }
   ],
   "source": [
    "eval(\"'ASCII'.count('I')\")"
   ]
  },
  {
   "cell_type": "markdown",
   "metadata": {},
   "source": [
    "3.18\n",
    "\n",
    "Assume a, b, and c have been defined in the interactive shell as shown:\n",
    "a, b, c = 3, 4, 5\n",
    "\n",
    "Within the interactive shell, write if statements that print 'OK' if:\n",
    "\n",
    "(a) a is less than b.\n",
    "(b) c is less than b.\n",
    "(c) The sum of a and b is equal to c.\n",
    "(d) The sum of the squares a and b is equal to c squared."
   ]
  },
  {
   "cell_type": "code",
   "execution_count": 7,
   "metadata": {},
   "outputs": [],
   "source": [
    "a=3\n",
    "b=4\n",
    "c=5"
   ]
  },
  {
   "cell_type": "code",
   "execution_count": 9,
   "metadata": {},
   "outputs": [
    {
     "name": "stdout",
     "output_type": "stream",
     "text": [
      "OK-a\n",
      "OK-d\n"
     ]
    }
   ],
   "source": [
    "if(a<b):\n",
    "    print(\"OK-a\")\n",
    "if(c<b):\n",
    "    print(\"OK-b\")\n",
    "if((a+b)==c):\n",
    "    print(\"OK-c\")\n",
    "if((a**2)+(b**2)==(c**2)):\n",
    "    print(\"OK-d\")"
   ]
  },
  {
   "cell_type": "markdown",
   "metadata": {},
   "source": [
    "3.19 \n",
    "\n",
    "Repeat the previous problem with the additional requirement that 'NOT OK' is printed\n",
    "if the condition is false.\n"
   ]
  },
  {
   "cell_type": "code",
   "execution_count": 10,
   "metadata": {},
   "outputs": [
    {
     "name": "stdout",
     "output_type": "stream",
     "text": [
      "OK-a\n",
      "NOT OK-b\n",
      "NOT OK-c\n",
      "OK-d\n"
     ]
    }
   ],
   "source": [
    "if(a<b):\n",
    "    print(\"OK-a\")\n",
    "else:\n",
    "    print(\"NOT OK-a\")\n",
    "if(c<b):\n",
    "    print(\"OK-b\")\n",
    "else:\n",
    "    print(\"NOT OK-b\")\n",
    "if((a+b)==c):\n",
    "    print(\"OK-c\")\n",
    "else:\n",
    "    print(\"NOT OK-c\")\n",
    "if((a**2)+(b**2)==(c**2)):\n",
    "    print(\"OK-d\")\n",
    "else:\n",
    "    print(\"NOT OK-d\")"
   ]
  },
  {
   "cell_type": "markdown",
   "metadata": {},
   "source": [
    "3.20 \n",
    "\n",
    "Write a for loop that iterates over a list of strings lst and prints the first three characters of every word. If lst is the list ['January', 'February', 'March'] then the\n",
    "following should be printed:\n",
    "Jan\n",
    "Feb\n",
    "Mar\n"
   ]
  },
  {
   "cell_type": "code",
   "execution_count": 13,
   "metadata": {},
   "outputs": [
    {
     "name": "stdout",
     "output_type": "stream",
     "text": [
      "Jan\n",
      "feb\n",
      "Mar\n"
     ]
    }
   ],
   "source": [
    "def first3(lst):\n",
    "    for i in range(0,len(lst)):\n",
    "        print(lst[i][0:3])\n",
    "x=[\"January\",\"february\",\"March\"]\n",
    "first3(x)"
   ]
  },
  {
   "cell_type": "markdown",
   "metadata": {},
   "source": [
    "3.21\n",
    "\n",
    "Write a for loop that iterates over a list of numbers lst and prints the even numbers\n",
    "in the list. For example, if lst is [2, 3, 4, 5, 6, 7, 8, 9], then the numbers 2, 4, 6,\n",
    "and 8 should be printed"
   ]
  },
  {
   "cell_type": "code",
   "execution_count": 15,
   "metadata": {},
   "outputs": [
    {
     "name": "stdout",
     "output_type": "stream",
     "text": [
      "2\n",
      "4\n",
      "6\n",
      "8\n",
      "12\n"
     ]
    }
   ],
   "source": [
    "def even(lst):\n",
    "    for i in range(0,len(lst)):\n",
    "        if(lst[i]%2==0):\n",
    "            print(lst[i])\n",
    "x=[2,3,4,5,6,7,8,12]\n",
    "even(x)"
   ]
  },
  {
   "cell_type": "markdown",
   "metadata": {},
   "source": [
    "3.22\n",
    "\n",
    "Write a for loop that iterates over a list of numbers lst and prints the numbers in the\n",
    "list whose square is divisible by 8. For example, if lst is [2, 3, 4, 5, 6, 7, 8, 9],\n",
    "then the numbers 4 and 8 should be printed.\n"
   ]
  },
  {
   "cell_type": "code",
   "execution_count": 17,
   "metadata": {},
   "outputs": [
    {
     "name": "stdout",
     "output_type": "stream",
     "text": [
      "4\n",
      "8\n"
     ]
    }
   ],
   "source": [
    "def square(lst):\n",
    "    for i in range(0,len(lst)):\n",
    "        if((lst[i]**2)%8==0):\n",
    "            print(lst[i])\n",
    "x=[2,3,4,5,6,7,8,9]\n",
    "square(x)"
   ]
  },
  {
   "cell_type": "markdown",
   "metadata": {},
   "source": [
    "3.23 \n",
    "\n",
    "Write for loops that use the function range() and print the following sequences:\n",
    "(a) 0 1\n",
    "(b) 0\n",
    "(c) 3 4 5 6\n",
    "(d) 1\n",
    "(e) 0 3\n",
    "(f) 5 9 13 17 21"
   ]
  },
  {
   "cell_type": "code",
   "execution_count": 34,
   "metadata": {},
   "outputs": [
    {
     "name": "stdout",
     "output_type": "stream",
     "text": [
      "0\n",
      "1\n",
      "b)\n",
      "0 \n",
      "c)\n",
      "3\n",
      "4\n",
      "5\n",
      "6\n",
      "d)\n",
      "1 \n",
      "e)\n",
      "0\n",
      "3\n",
      "e)\n",
      "5\n",
      "9\n",
      "13\n",
      "17\n",
      "21\n"
     ]
    }
   ],
   "source": [
    "for i in range(0,2):\n",
    "    print(i)\n",
    "print(\"b)\")\n",
    "for i in range(0,1):\n",
    "    print(i,\"\\nc)\")\n",
    "for i in range(3,7):\n",
    "    print(i)\n",
    "print(\"d)\")\n",
    "for i in range(1,2):\n",
    "    print(i,'\\ne)')\n",
    "for i in range(0,4,3):\n",
    "    print(i)\n",
    "print(\"e)\")\n",
    "for i in range(5,22,4):\n",
    "    print(i)"
   ]
  },
  {
   "cell_type": "code",
   "execution_count": null,
   "metadata": {},
   "outputs": [],
   "source": []
  }
 ],
 "metadata": {
  "kernelspec": {
   "display_name": "Python 3",
   "language": "python",
   "name": "python3"
  },
  "language_info": {
   "codemirror_mode": {
    "name": "ipython",
    "version": 3
   },
   "file_extension": ".py",
   "mimetype": "text/x-python",
   "name": "python",
   "nbconvert_exporter": "python",
   "pygments_lexer": "ipython3",
   "version": "3.8.5"
  }
 },
 "nbformat": 4,
 "nbformat_minor": 4
}
