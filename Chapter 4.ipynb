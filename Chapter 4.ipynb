{
 "cells": [
  {
   "cell_type": "markdown",
   "metadata": {},
   "source": [
    "# Practice Problems\n",
    "4.1\n",
    "\n",
    "Start by executing the assignment:\n",
    "s = '0123456789'\n",
    "Now write expressions using string s and the indexing operator that evaluate to:\n",
    "(a) '234'\n",
    "(b) '78'\n",
    "(c) '1234567'\n",
    "(d) '0123'\n",
    "(e) '789'\n"
   ]
  },
  {
   "cell_type": "code",
   "execution_count": 5,
   "metadata": {},
   "outputs": [],
   "source": [
    "s= '0123456789'"
   ]
  },
  {
   "cell_type": "code",
   "execution_count": 10,
   "metadata": {},
   "outputs": [
    {
     "data": {
      "text/plain": [
       "('234', '78', '1234567', '0123', '789')"
      ]
     },
     "execution_count": 10,
     "metadata": {},
     "output_type": "execute_result"
    }
   ],
   "source": [
    "#(a),(b),(c),(d),(e)\n",
    "s[2:5],s[7:9],s[1:8],s[:4],s[7:]"
   ]
  },
  {
   "cell_type": "markdown",
   "metadata": {},
   "source": [
    "4.2\n",
    "\n",
    "Assuming that variable forecast has been assigned string\n",
    "'It will be a sunny day today'\n",
    "write Python statements corresponding to these assignments:\n",
    "(a) To variable count, the number of occurrences of string 'day' in string forecast.\n",
    "(b) To variable weather, the index where substring 'sunny' starts.\n",
    "(c) To variable change, a copy of forecast in which every occurrence of substring\n",
    "'sunny' is replaced by 'cloudy'."
   ]
  },
  {
   "cell_type": "code",
   "execution_count": 11,
   "metadata": {},
   "outputs": [],
   "source": [
    "forecast='It will be a sunny day today'"
   ]
  },
  {
   "cell_type": "code",
   "execution_count": 13,
   "metadata": {},
   "outputs": [],
   "source": [
    "#(a)\n",
    "count=forecast.count('day')\n",
    "#(b)\n",
    "weather=forecast.find('sunny')\n",
    "#(c)\n",
    "change=forecast.replace('sunny','cloudy')"
   ]
  },
  {
   "cell_type": "markdown",
   "metadata": {},
   "source": [
    "4.3\n",
    "\n",
    "Write a statement that prints the values of variables last, first, and middle in one line,\n",
    "separated by a horizontal tab character. (The Python escape sequence for the horizontal tab\n",
    "character is \\t.) If the variables are assigned like this:\n",
    "last = 'Smith'\n",
    "first = 'John'\n",
    "middle = 'Paul'\n",
    "the output should be:\n",
    "Smith John Paul"
   ]
  },
  {
   "cell_type": "code",
   "execution_count": 14,
   "metadata": {},
   "outputs": [],
   "source": [
    "last='Smith'\n",
    "first='John'\n",
    "middle='Paul'"
   ]
  },
  {
   "cell_type": "code",
   "execution_count": 16,
   "metadata": {},
   "outputs": [
    {
     "name": "stdout",
     "output_type": "stream",
     "text": [
      "Smith\tJohn\tPaul\n"
     ]
    }
   ],
   "source": [
    "print(last,first,middle,sep='\\t')"
   ]
  },
  {
   "cell_type": "markdown",
   "metadata": {},
   "source": [
    "4.4\n",
    "\n",
    "Write function even() that takes a positive integer n as input and prints on the screen all\n",
    "numbers between, and including, 2 and n divisible by 2 or by 3, using this output format:\n",
    "even(17)\n",
    "2, 3, 4, 6, 8, 9, 10, 12, 14, 15, 16,"
   ]
  },
  {
   "cell_type": "code",
   "execution_count": 23,
   "metadata": {},
   "outputs": [
    {
     "name": "stdout",
     "output_type": "stream",
     "text": [
      "2, 3, 4, 6, 8, 9, 10, 12, 14, 15, 16, "
     ]
    }
   ],
   "source": [
    "def even(n):\n",
    "    for i in range(2, n+1):\n",
    "        if i%2 == 0 or i%3 == 0:\n",
    "            print(i, end=', ')\n",
    "even(17)"
   ]
  },
  {
   "cell_type": "markdown",
   "metadata": {},
   "source": [
    "4.5\n",
    "\n",
    "Assume variables first, last, street, number, city, state, zipcode have already\n",
    "been assigned. Write a print statement that creates a mailing label:\n",
    "John Doe\n",
    "123 Main Street\n",
    "AnyCity, AS 09876"
   ]
  },
  {
   "cell_type": "code",
   "execution_count": 24,
   "metadata": {},
   "outputs": [],
   "source": [
    "first = 'John'\n",
    "last = 'Doe'\n",
    "street = 'Main Street'\n",
    "number = 123\n",
    "city = 'AnyCity'\n",
    "state = 'AS'\n",
    "zipcode = '09876'"
   ]
  },
  {
   "cell_type": "code",
   "execution_count": 32,
   "metadata": {},
   "outputs": [
    {
     "name": "stdout",
     "output_type": "stream",
     "text": [
      "John Doe \n",
      " 123 Main Street \n",
      " AnyCity AS , 09876\n"
     ]
    }
   ],
   "source": [
    "print(first,last,'\\n',number,street,'\\n',city,state,',',zipcode)"
   ]
  },
  {
   "cell_type": "markdown",
   "metadata": {},
   "source": [
    "4.6\n",
    "\n",
    "Implement function roster() that takes a list containing student information and prints\n",
    "out a roster, as shown below. The student information, consisting of the student’s last name,\n",
    "first name, class, and average course grade, will be stored in that order in a list. Therefore,\n",
    "the input list is a list of lists. Make sure the roster printed out has 10 slots for every string\n",
    "value and 8 for the grade, including 2 slots for the decimal part.\n"
   ]
  },
  {
   "cell_type": "code",
   "execution_count": 1,
   "metadata": {},
   "outputs": [],
   "source": [
    "students = []\n",
    "students.append(['DeMoines', 'Jim', 'Sophomore', 3.45])\n",
    "students.append(['Pierre', 'Sophie', 'Sophomore', 4.0])\n",
    "students.append(['Columbus', 'Maria', 'Senior', 2.5])\n",
    "students.append(['Phoenix', 'River', 'Junior', 2.45])\n",
    "students.append(['Olympis', 'Edgar', 'Junior', 3.99])"
   ]
  },
  {
   "cell_type": "code",
   "execution_count": 2,
   "metadata": {},
   "outputs": [],
   "source": [
    "def roster(students):\n",
    "    'prints average grade for a roster of students'\n",
    "    print('Last First Class Average Grade')\n",
    "    for student in students:\n",
    "        print('{:10}{:10}{:10}{:8.2f}'.format(student[0],student[1], student[2], student[3]))\n"
   ]
  },
  {
   "cell_type": "code",
   "execution_count": 3,
   "metadata": {},
   "outputs": [
    {
     "name": "stdout",
     "output_type": "stream",
     "text": [
      "Last First Class Average Grade\n",
      "DeMoines  Jim       Sophomore     3.45\n",
      "Pierre    Sophie    Sophomore     4.00\n",
      "Columbus  Maria     Senior        2.50\n",
      "Phoenix   River     Junior        2.45\n",
      "Olympis   Edgar     Junior        3.99\n"
     ]
    }
   ],
   "source": [
    "roster(students)"
   ]
  },
  {
   "cell_type": "markdown",
   "metadata": {},
   "source": [
    "4.7\n",
    "\n",
    "Start by setting t to be the local time 1, 500, 000, 000 seconds from the start of January 1,\n",
    "1970 UTC:\n",
    " import time\n",
    " t = time.localtime(1500000000)\n",
    "Construct the next strings by using the string time format function strftime():\n",
    "(a) 'Thursday, July 13 2017'\n",
    "(b) '09:40 PM Central Daylight Time on 07/13/2017'\n",
    "(c) 'I will meet you on Thu July 13 at 09:40 PM.'"
   ]
  },
  {
   "cell_type": "code",
   "execution_count": 22,
   "metadata": {},
   "outputs": [],
   "source": [
    "import time\n",
    "t=time.localtime(1500000000)"
   ]
  },
  {
   "cell_type": "code",
   "execution_count": 23,
   "metadata": {},
   "outputs": [
    {
     "name": "stdout",
     "output_type": "stream",
     "text": [
      "Friday, July 14 2017\n",
      "08:10 AM India Standard Time Central Daylight Time on 07/14/2017\n"
     ]
    },
    {
     "data": {
      "text/plain": [
       "'I will meet you on Fri July 14 at 08:10 AM.'"
      ]
     },
     "execution_count": 23,
     "metadata": {},
     "output_type": "execute_result"
    }
   ],
   "source": [
    "#(a)\n",
    "print(time.strftime('%A, %B %d %Y', t))\n",
    "#(b)\n",
    "print(time.strftime('%I:%M %p %Z Central Daylight Time on %m/%d/%Y',t))\n",
    "#(c)\n",
    "time.strftime('I will meet you on %a %B %d at %I:%M %p.', t)\n"
   ]
  },
  {
   "cell_type": "markdown",
   "metadata": {},
   "source": [
    "4.8\n",
    "\n",
    "Write function stringCount() that takes two string inputs—a file name and a target string—\n",
    "and returns the number of occurrences of the target string in the file."
   ]
  },
  {
   "cell_type": "code",
   "execution_count": 13,
   "metadata": {},
   "outputs": [],
   "source": [
    "def stringCount(filename, target):\n",
    "    infile = open(filename)\n",
    "    content = infile.read()\n",
    "    infile.close()\n",
    "    return content.count(target)"
   ]
  },
  {
   "cell_type": "markdown",
   "metadata": {},
   "source": [
    "## Exercises\n",
    "4.12"
   ]
  },
  {
   "cell_type": "code",
   "execution_count": 2,
   "metadata": {},
   "outputs": [],
   "source": [
    "s='abcdefghijklmnopqrstuvwxyz'"
   ]
  },
  {
   "cell_type": "code",
   "execution_count": 9,
   "metadata": {},
   "outputs": [
    {
     "name": "stdout",
     "output_type": "stream",
     "text": [
      "bcd\n",
      "abc\n",
      "defghijklmnopqrstuvwx\n",
      "wxy\n",
      "wxyz\n"
     ]
    }
   ],
   "source": [
    "print(s[1:4])\n",
    "print(s[0:3])\n",
    "print(s[3:-2])\n",
    "print(s[-4:-1])\n",
    "print(s[-4:])"
   ]
  },
  {
   "cell_type": "markdown",
   "metadata": {},
   "source": [
    "4.13"
   ]
  },
  {
   "cell_type": "code",
   "execution_count": 17,
   "metadata": {},
   "outputs": [
    {
     "name": "stdout",
     "output_type": "stream",
     "text": [
      "bc\n",
      "abcdefghijklmn\n",
      "opqrstuvwxyz\n",
      "bcdefghijklmnopqrstuvw\n"
     ]
    }
   ],
   "source": [
    "#(a)\n",
    "print(s[1:3])\n",
    "#(b)\n",
    "print(s[:14])\n",
    "#(c)\n",
    "print(s[14:])\n",
    "#(d)\n",
    "print(s[1:-3])"
   ]
  },
  {
   "cell_type": "markdown",
   "metadata": {},
   "source": [
    "4.14"
   ]
  },
  {
   "cell_type": "code",
   "execution_count": 21,
   "metadata": {},
   "outputs": [
    {
     "data": {
      "text/plain": [
       "'128.0.0.1 - - [12/Feb/2011:10:31:08 -0600] \"GET /docs/test.txt HTTP/1.0\"'"
      ]
     },
     "execution_count": 21,
     "metadata": {},
     "output_type": "execute_result"
    }
   ],
   "source": [
    "#(a)\n",
    "log='128.0.0.1 - - [12/Feb/2011:10:31:08 -0600] \"GET /docs/test.txt HTTP/1.0\"'\n",
    "log"
   ]
  },
  {
   "cell_type": "code",
   "execution_count": 20,
   "metadata": {},
   "outputs": [
    {
     "data": {
      "text/plain": [
       "'128.0.0.1'"
      ]
     },
     "execution_count": 20,
     "metadata": {},
     "output_type": "execute_result"
    }
   ],
   "source": [
    "#(b)\n",
    "adress=log.split(' ')[0]\n",
    "adress"
   ]
  },
  {
   "cell_type": "code",
   "execution_count": 25,
   "metadata": {},
   "outputs": [
    {
     "data": {
      "text/plain": [
       "'[12/Feb/2011:10:31:08 -0600] '"
      ]
     },
     "execution_count": 25,
     "metadata": {},
     "output_type": "execute_result"
    }
   ],
   "source": [
    "#(c)\n",
    "date=log[14:43]\n",
    "date"
   ]
  },
  {
   "cell_type": "markdown",
   "metadata": {},
   "source": [
    "4.15"
   ]
  },
  {
   "cell_type": "code",
   "execution_count": 30,
   "metadata": {},
   "outputs": [],
   "source": [
    "s=['10', '20', '30', '40', '50', '60']"
   ]
  },
  {
   "cell_type": "code",
   "execution_count": 27,
   "metadata": {},
   "outputs": [
    {
     "data": {
      "text/plain": [
       "['10', '20', '30', '40', '50', '60']"
      ]
     },
     "execution_count": 27,
     "metadata": {},
     "output_type": "execute_result"
    }
   ],
   "source": [
    "#(a)\n",
    "s"
   ]
  },
  {
   "cell_type": "code",
   "execution_count": null,
   "metadata": {},
   "outputs": [],
   "source": []
  },
  {
   "cell_type": "markdown",
   "metadata": {},
   "source": [
    "4.17"
   ]
  },
  {
   "cell_type": "code",
   "execution_count": 38,
   "metadata": {},
   "outputs": [],
   "source": [
    "#(a)\n",
    "message='The secret of this message is that it is secret.'"
   ]
  },
  {
   "cell_type": "code",
   "execution_count": 39,
   "metadata": {},
   "outputs": [
    {
     "data": {
      "text/plain": [
       "48"
      ]
     },
     "execution_count": 39,
     "metadata": {},
     "output_type": "execute_result"
    }
   ],
   "source": [
    "#(b)\n",
    "length=len(message)\n",
    "length"
   ]
  },
  {
   "cell_type": "code",
   "execution_count": 41,
   "metadata": {},
   "outputs": [
    {
     "data": {
      "text/plain": [
       "2"
      ]
     },
     "execution_count": 41,
     "metadata": {},
     "output_type": "execute_result"
    }
   ],
   "source": [
    "#(c)\n",
    "count=message.count('secret')\n",
    "count"
   ]
  },
  {
   "cell_type": "code",
   "execution_count": 42,
   "metadata": {},
   "outputs": [
    {
     "data": {
      "text/plain": [
       "'The xxxxxx of this message is that it is xxxxxx.'"
      ]
     },
     "execution_count": 42,
     "metadata": {},
     "output_type": "execute_result"
    }
   ],
   "source": [
    "#(d)\n",
    "censored=message.replace('secret','xxxxxx')\n",
    "censored"
   ]
  },
  {
   "cell_type": "code",
   "execution_count": null,
   "metadata": {},
   "outputs": [],
   "source": []
  }
 ],
 "metadata": {
  "kernelspec": {
   "display_name": "Python 3",
   "language": "python",
   "name": "python3"
  },
  "language_info": {
   "codemirror_mode": {
    "name": "ipython",
    "version": 3
   },
   "file_extension": ".py",
   "mimetype": "text/x-python",
   "name": "python",
   "nbconvert_exporter": "python",
   "pygments_lexer": "ipython3",
   "version": "3.8.5"
  }
 },
 "nbformat": 4,
 "nbformat_minor": 4
}
