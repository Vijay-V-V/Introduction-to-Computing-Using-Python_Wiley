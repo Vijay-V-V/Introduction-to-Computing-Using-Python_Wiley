{
 "cells": [
  {
   "cell_type": "markdown",
   "metadata": {},
   "source": [
    "# Practice Problems\n",
    "2.1"
   ]
  },
  {
   "cell_type": "markdown",
   "metadata": {},
   "source": [
    "Write Python algebraic expressions corresponding to the following statements:\n",
    "(a) The sum of the first five positive integers\n",
    "(b) The average age of Sara (age 23), Mark (age 19), and Fatima (age 31)\n",
    "(c) The number of times 73 goes into 403\n",
    "(d) The remainder when 403 is divided by 73\n",
    "(e) 2 to the 10th power\n",
    "(f) The absolute value of the difference between Sara’s height (54 inches) and Mark’s\n",
    "height (57 inches)\n",
    "(g) The lowest price among the following prices: $34.99, $29.95, and $31.50"
   ]
  },
  {
   "cell_type": "code",
   "execution_count": 10,
   "metadata": {},
   "outputs": [
    {
     "name": "stdout",
     "output_type": "stream",
     "text": [
      "15\n",
      "24.333333333333332\n",
      "5.52054794520548\n",
      "38\n",
      "1024\n",
      "3\n",
      "29.95\n"
     ]
    }
   ],
   "source": [
    "#(a)\n",
    "print(1+2+3+4+5)\n",
    "#(b)\n",
    "print((23+19+31)/3)\n",
    "#(c)\n",
    "print(403/73)\n",
    "#(d)\n",
    "print(403%73)\n",
    "#(e)\n",
    "print(2**10)\n",
    "#(f)\n",
    "print(abs(54-57))\n",
    "#(g)\n",
    "print(min(34.99,29.95,31.5))"
   ]
  },
  {
   "cell_type": "markdown",
   "metadata": {},
   "source": [
    "2.2\n",
    "\n",
    "Translate the following statements into Python Boolean expressions and evaluate them:\n",
    "(a) The sum of 2 and 2 is less than 4.\n",
    "(b) The value of 7 // 3 is equal to 1 + 1.\n",
    "(c) The sum of 3 squared and 4 squared is equal to 25.\n",
    "(d) The sum of 2, 4, and 6 is greater than 12.\n",
    "(e) 1387 is divisible by 19.\n",
    "(f) 31 is even. (Hint: what does the remainder when you divide by 2 tell you?)\n",
    "(g) The lowest price among $34.99, $29.95, and $31.50 is less than $30.00.\n"
   ]
  },
  {
   "cell_type": "code",
   "execution_count": 18,
   "metadata": {},
   "outputs": [
    {
     "name": "stdout",
     "output_type": "stream",
     "text": [
      "False\n",
      "True\n",
      "True\n",
      "False\n",
      "73.0\n",
      "False\n",
      "True\n"
     ]
    }
   ],
   "source": [
    "#(a)\n",
    "print(2+2<4)\n",
    "#(b)\n",
    "print(7//3==1+1)\n",
    "#(c)\n",
    "print(((3**2)+(4**2))==25)\n",
    "#(d)\n",
    "print(2+4+6>12)\n",
    "#(e)\n",
    "print(1387/19)\n",
    "#(f)\n",
    "print(31%2==0)\n",
    "#(g)\n",
    "print(min(34.99,29.95,31.50)<30)"
   ]
  },
  {
   "cell_type": "markdown",
   "metadata": {},
   "source": [
    "2.3\n",
    "\n",
    "Write Python statements that correspond to the actions below and execute them:\n",
    "(a) Assign integer value 3 to variable a.\n",
    "(b) Assign 4 to variable b.\n",
    "(c) Assign to variable c the value of expression a * a + b * b.\n"
   ]
  },
  {
   "cell_type": "code",
   "execution_count": 21,
   "metadata": {
    "scrolled": false
   },
   "outputs": [
    {
     "name": "stdout",
     "output_type": "stream",
     "text": [
      "25\n"
     ]
    }
   ],
   "source": [
    "#(a)\n",
    "a=3\n",
    "#(b)\n",
    "b=4\n",
    "#(c)\n",
    "c=a*a+b*b\n",
    "print(c)"
   ]
  },
  {
   "cell_type": "markdown",
   "metadata": {},
   "source": [
    " 2.4\n",
    "\n",
    "Write Python expressions using s1, s2, and s3 and operators + and * that evaluate to:\n",
    "(a) 'ant bat cod'\n",
    "(b) 'ant ant ant ant ant ant ant ant ant ant '\n",
    "(c) 'ant bat bat cod cod cod'\n",
    "(d) 'ant bat ant bat ant bat ant bat ant bat ant bat ant bat '\n",
    "(e) 'batbatcod batbatcod batbatcod batbatcod batbatcod '\n"
   ]
  },
  {
   "cell_type": "code",
   "execution_count": 28,
   "metadata": {},
   "outputs": [],
   "source": [
    "s1 = 'ant '\n",
    "s2 = 'bat '\n",
    "s3 = 'cod '"
   ]
  },
  {
   "cell_type": "code",
   "execution_count": 31,
   "metadata": {},
   "outputs": [
    {
     "name": "stdout",
     "output_type": "stream",
     "text": [
      "ant bat cod \n",
      "ant ant ant ant ant ant ant ant ant ant \n",
      "ant bat bat cod cod cod \n",
      "ant bat ant bat ant bat ant bat ant bat ant bat ant bat \n",
      "bat bat cod  bat bat cod  bat bat cod  bat bat cod  bat bat cod  \n"
     ]
    }
   ],
   "source": [
    "#(a)\n",
    "print(s1+s2+s3)\n",
    "#(b)\n",
    "print(s1*10)\n",
    "#(c)\n",
    "print(s1+s2*2+s3*3)\n",
    "#(d)\n",
    "print((s1+s2)*7)\n",
    "#(e)\n",
    "print((s2*2+s3+\" \")*5)"
   ]
  },
  {
   "cell_type": "markdown",
   "metadata": {},
   "source": [
    "2.5\n",
    "\n",
    "Now write expressions using string s and the indexing operator that evaluate to:\n",
    "(a) '0'\n",
    "(b) '1'\n",
    "(c) '6'\n",
    "(d) '8'\n",
    "(e) '9'\n"
   ]
  },
  {
   "cell_type": "code",
   "execution_count": 32,
   "metadata": {},
   "outputs": [],
   "source": [
    "s = '0123456789'"
   ]
  },
  {
   "cell_type": "code",
   "execution_count": 34,
   "metadata": {},
   "outputs": [
    {
     "name": "stdout",
     "output_type": "stream",
     "text": [
      "0\n",
      "1\n",
      "6\n",
      "8\n",
      "9\n"
     ]
    }
   ],
   "source": [
    "#(a)\n",
    "print(s[0])\n",
    "#(b)\n",
    "print(s[1])\n",
    "#(c)\n",
    "print(s[6])\n",
    "#(d)\n",
    "print(s[8])\n",
    "#(e)\n",
    "print(s[9])"
   ]
  },
  {
   "cell_type": "markdown",
   "metadata": {},
   "source": [
    "2.6\n",
    "\n",
    "First execute the assignment\n",
    "words = ['bat', 'ball', 'barn', 'basket', 'badminton']\n",
    "Now write two Python expressions that evaluate to the first and last, respectively, word in\n",
    "words, in dictionary order."
   ]
  },
  {
   "cell_type": "code",
   "execution_count": 35,
   "metadata": {},
   "outputs": [],
   "source": [
    "words = ['bat', 'ball', 'barn', 'basket', 'badminton']"
   ]
  },
  {
   "cell_type": "code",
   "execution_count": 36,
   "metadata": {},
   "outputs": [
    {
     "name": "stdout",
     "output_type": "stream",
     "text": [
      "badminton\n",
      "bat\n"
     ]
    }
   ],
   "source": [
    "print(min(words))\n",
    "print(max(words))"
   ]
  },
  {
   "cell_type": "markdown",
   "metadata": {},
   "source": [
    "2.7\n",
    "\n",
    "Given the list of student homework grades\n",
    "grades = [9, 7, 7, 10, 3, 9, 6, 6, 2]\n",
    "write:\n",
    "(a) An expression that evaluates to the number of 7 grades\n",
    "(b) A statement that changes the last grade to 4\n",
    "(c) An expression that evaluates to the maximum grade\n",
    "(d) A statement that sorts the list grades\n",
    "(e) An expression that evaluates to the average grade"
   ]
  },
  {
   "cell_type": "code",
   "execution_count": 37,
   "metadata": {},
   "outputs": [],
   "source": [
    "grades = [9, 7, 7, 10, 3, 9, 6, 6, 2]"
   ]
  },
  {
   "cell_type": "code",
   "execution_count": 41,
   "metadata": {},
   "outputs": [
    {
     "name": "stdout",
     "output_type": "stream",
     "text": [
      "2\n",
      "10\n",
      "6.777777777777778\n"
     ]
    }
   ],
   "source": [
    "#(a)\n",
    "print(grades.count(7))\n",
    "#(b)\n",
    "grades[-1]=4\n",
    "#(c)\n",
    "print(max(grades))\n",
    "#(d)\n",
    "grades.sort()\n",
    "#(e)\n",
    "print(sum(grades)/len(grades))"
   ]
  },
  {
   "cell_type": "markdown",
   "metadata": {},
   "source": [
    "2.10\n",
    "\n",
    "Write Python expressions corresponding to the following:\n",
    "(a) The length of the hypotenuse in a right triangle whose other two sides have lengths a\n",
    "and b\n",
    "(b) The value of the expression that evaluates whether the length of the above hypotenuse\n",
    "is 5\n",
    "(c) The area of a disk of radius a\n",
    "(d) The value of the Boolean expression that checks whether a point with coordinates x\n",
    "and y is inside a circle with center (a, b) and radius r\n"
   ]
  },
  {
   "cell_type": "code",
   "execution_count": 43,
   "metadata": {
    "collapsed": true
   },
   "outputs": [
    {
     "ename": "NameError",
     "evalue": "name 'pi' is not defined",
     "output_type": "error",
     "traceback": [
      "\u001b[1;31m---------------------------------------------------------------------------\u001b[0m",
      "\u001b[1;31mNameError\u001b[0m                                 Traceback (most recent call last)",
      "\u001b[1;32m<ipython-input-43-ea9e02905a38>\u001b[0m in \u001b[0;36m<module>\u001b[1;34m\u001b[0m\n\u001b[0;32m      5\u001b[0m \u001b[0mh_len\u001b[0m\u001b[1;33m=\u001b[0m\u001b[0mm\u001b[0m\u001b[1;33m.\u001b[0m\u001b[0msqrt\u001b[0m\u001b[1;33m(\u001b[0m\u001b[0ma\u001b[0m\u001b[1;33m**\u001b[0m\u001b[1;36m2\u001b[0m\u001b[1;33m+\u001b[0m\u001b[0mb\u001b[0m\u001b[1;33m**\u001b[0m\u001b[1;36m2\u001b[0m\u001b[1;33m)\u001b[0m\u001b[1;33m==\u001b[0m\u001b[1;36m5\u001b[0m\u001b[1;33m\u001b[0m\u001b[1;33m\u001b[0m\u001b[0m\n\u001b[0;32m      6\u001b[0m \u001b[1;31m#(c)\u001b[0m\u001b[1;33m\u001b[0m\u001b[1;33m\u001b[0m\u001b[1;33m\u001b[0m\u001b[0m\n\u001b[1;32m----> 7\u001b[1;33m \u001b[0marea\u001b[0m\u001b[1;33m=\u001b[0m\u001b[0mpi\u001b[0m\u001b[1;33m*\u001b[0m\u001b[0ma\u001b[0m\u001b[1;33m**\u001b[0m\u001b[1;36m2\u001b[0m\u001b[1;33m\u001b[0m\u001b[1;33m\u001b[0m\u001b[0m\n\u001b[0m\u001b[0;32m      8\u001b[0m \u001b[1;31m#(d)\u001b[0m\u001b[1;33m\u001b[0m\u001b[1;33m\u001b[0m\u001b[1;33m\u001b[0m\u001b[0m\n\u001b[0;32m      9\u001b[0m \u001b[1;33m(\u001b[0m\u001b[0mx\u001b[0m\u001b[1;33m-\u001b[0m\u001b[0ma\u001b[0m\u001b[1;33m)\u001b[0m\u001b[1;33m**\u001b[0m\u001b[1;36m2\u001b[0m\u001b[1;33m+\u001b[0m\u001b[1;33m(\u001b[0m\u001b[0my\u001b[0m\u001b[1;33m-\u001b[0m\u001b[0ma\u001b[0m\u001b[1;33m)\u001b[0m\u001b[1;33m**\u001b[0m\u001b[1;36m2\u001b[0m\u001b[1;33m<\u001b[0m\u001b[0mr\u001b[0m\u001b[1;33m**\u001b[0m\u001b[1;36m2\u001b[0m\u001b[1;33m\u001b[0m\u001b[1;33m\u001b[0m\u001b[0m\n",
      "\u001b[1;31mNameError\u001b[0m: name 'pi' is not defined"
     ]
    }
   ],
   "source": [
    "import math as m\n",
    "#(a)\n",
    "h_len=m.sqrt(a**2+b**2)\n",
    "#(b)\n",
    "h_len=m.sqrt(a**2+b**2)==5\n",
    "#(c)\n",
    "area=pi*a**2\n",
    "#(d)\n",
    "(x-a)**2+(y-a)**2<area=pi*a**2"
   ]
  },
  {
   "cell_type": "markdown",
   "metadata": {},
   "source": [
    "# Exersices\n",
    "\n",
    "2.11\n",
    "\n",
    "Write Python expressions corresponding to these statements:\n",
    "(a) The sum of negative integers −7 through −1\n",
    "(b) The average age of a group of kids at a summer camp given than 17 are 9 years old,\n",
    "24 are 10 years old, 21 are 11 years old, and 27 are 12 years old\n",
    "(c) 2 to the power −20\n",
    "(d) The number of times 61 goes into 4356\n",
    "(e) The remainder when 4365 is divided by 61"
   ]
  },
  {
   "cell_type": "code",
   "execution_count": 57,
   "metadata": {},
   "outputs": [
    {
     "name": "stdout",
     "output_type": "stream",
     "text": [
      "-27\n",
      "10.651685393258427\n",
      "71.40983606557377\n",
      "34\n"
     ]
    }
   ],
   "source": [
    "#(a)\n",
    "print(sum(x for x in range(-7,-1)))\n",
    "#(b)\n",
    "print((17*9+24*10+21*11+27*12)/(17+24+21+27))\n",
    "#(c)\n",
    "2**(-20)\n",
    "#(d)\n",
    "print(4356/61)\n",
    "#(e)\n",
    "print(4365%61)"
   ]
  },
  {
   "cell_type": "markdown",
   "metadata": {},
   "source": [
    "2.12\n",
    "\n",
    "Start by evaluating, in the interactive shell, the assignment:\n",
    "s1 = '-'\n",
    "s2 = '+'\n",
    "Now write string expressions involving s1 and s2 and string operators + and * that evaluate\n",
    "to:\n",
    "(a) '-+'\n",
    "(b) '-+-'\n",
    "(c) '+––'\n",
    "(d) '+––+––'\n",
    "(e) '+––+––+––+––+––+––+––+––+––+––+'\n",
    "(f) '+–+++––+–+++––+–+++––+–+++––+–+++––'"
   ]
  },
  {
   "cell_type": "code",
   "execution_count": 58,
   "metadata": {},
   "outputs": [],
   "source": [
    "s1 = '-'\n",
    "s2 = '+'"
   ]
  },
  {
   "cell_type": "code",
   "execution_count": 61,
   "metadata": {},
   "outputs": [
    {
     "name": "stdout",
     "output_type": "stream",
     "text": [
      "-+\n",
      "-+-\n",
      "+--\n",
      "+--+--\n",
      "+--+--+\n",
      "+--+++--+--+++--+--+++--+--+++--+--+++--\n"
     ]
    }
   ],
   "source": [
    "#(a)\n",
    "print(s1+s2)\n",
    "#(b)\n",
    "print(s1+s2+s1)\n",
    "#(c)\n",
    "print(s2+s1*2)\n",
    "#(d)\n",
    "print((s2+s1*2)*2)\n",
    "#(e)\n",
    "print((s2+s1*2)*2+s2)\n",
    "#(f)\n",
    "print((s2+s1*2+s2*3+s1*2)*5)"
   ]
  },
  {
   "cell_type": "markdown",
   "metadata": {},
   "source": [
    "2.13\n",
    "\n",
    "Start by running, in the shell, the following assignment statement:\n",
    "s = 'abcdefghijklmnopqrstuvwxyz'\n",
    "Now write expressions using string s and the indexing operator that evaluate to 'a', 'c',\n",
    "'z', 'y', and 'q'.\n"
   ]
  },
  {
   "cell_type": "code",
   "execution_count": 62,
   "metadata": {},
   "outputs": [],
   "source": [
    " s = 'abcdefghijklmnopqrstuvwxyz'"
   ]
  },
  {
   "cell_type": "code",
   "execution_count": 64,
   "metadata": {},
   "outputs": [
    {
     "name": "stdout",
     "output_type": "stream",
     "text": [
      "a c z y q\n"
     ]
    }
   ],
   "source": [
    "print(s[0],s[2],s[-1],s[-2],s[-10])"
   ]
  },
  {
   "cell_type": "markdown",
   "metadata": {},
   "source": [
    "2.14\n",
    "\n",
    "Start by executing\n",
    "s = 'goodbye'\n",
    "Then write a Boolean expression that checks whether:\n",
    "(a) The first character of string s is 'g'\n",
    "(b) The seventh character of s is 'g'\n",
    "(c) The first two characters of s are 'g' and 'a'\n",
    "(d) The next to last character of s is 'x'\n",
    "(e) The middle character of s is 'd'\n",
    "(f) The first and last characters of string s are equal\n",
    "(g) The last four characters of string s match the string 'tion'\n",
    "Note: These seven statements should evaluate to True, False, False, False, True, False,\n",
    "and False, respectively"
   ]
  },
  {
   "cell_type": "code",
   "execution_count": 2,
   "metadata": {},
   "outputs": [],
   "source": [
    "s='goodbye'"
   ]
  },
  {
   "cell_type": "code",
   "execution_count": 4,
   "metadata": {},
   "outputs": [
    {
     "name": "stdout",
     "output_type": "stream",
     "text": [
      "True\n",
      "False\n",
      "False\n",
      "False\n",
      "True\n",
      "False\n",
      "False\n"
     ]
    }
   ],
   "source": [
    "#(a)\n",
    "print(s[0]=='g')\n",
    "#(b)\n",
    "print(s[6]=='g')\n",
    "#(c)\n",
    "print(s[0:1]=='ga')\n",
    "#(d)\n",
    "print(s[-2]=='x')\n",
    "#(e)\n",
    "print(s[3]=='d')\n",
    "#(f)\n",
    "print(s[0]==s[-1])\n",
    "#(g)\n",
    "print(s[-4:-1]=='tion')"
   ]
  },
  {
   "cell_type": "markdown",
   "metadata": {},
   "source": [
    "2.15\n",
    "\n",
    "Write Python expressions corresponding to these statements:\n",
    "(a) The number of characters in the word \"anachronistically\" is 1 more than the number\n",
    "of characters in the word \"counterintuitive.\"\n",
    "(b) The word \"misinterpretation\" appears earlier in the dictionary than the word \"misrep\u0002resentation.\"\n",
    "(c) The letter \"e\" does not appear in the word \"floccinaucinihilipilification.\"\n",
    "(d) The number of characters in the word \"counterrevolution\" is equal to the sum of the\n",
    "number of characters in words \"counter\" and \"resolution.\"\n"
   ]
  },
  {
   "cell_type": "code",
   "execution_count": 1,
   "metadata": {},
   "outputs": [
    {
     "name": "stdout",
     "output_type": "stream",
     "text": [
      "True\n",
      "misinterpretation\n",
      "False\n"
     ]
    }
   ],
   "source": [
    "#(a)\n",
    "print(len('anachronistically')>len('counterintuitive'))\n",
    "#(b)\n",
    "print(min('misinterpretation','misrepresentation'))\n",
    "#(c)\n",
    "print('e' in 'floccinaucinihilipilification')"
   ]
  },
  {
   "cell_type": "markdown",
   "metadata": {},
   "source": [
    "2.16\n",
    "\n",
    "Write the corresponding Python assignment statements:\n",
    "(a) Assign 6 to variable a and 7 to variable b.\n",
    "(b) Assign to variable c the average of variables a and b.\n",
    "(c) Assign to variable inventory the list containing strings 'paper', 'staples', and\n",
    "'pencils'.\n",
    "(d) Assign to variables first, middle and last the strings 'John', 'Fitzgerald',\n",
    "and 'Kennedy'.\n",
    "(e) Assign to variable fullname the concatenation of string variables first, middle,\n",
    "and last. Make sure you incorporate blank spaces appropriately.\n"
   ]
  },
  {
   "cell_type": "code",
   "execution_count": 4,
   "metadata": {},
   "outputs": [],
   "source": [
    "#(a)\n",
    "a=6\n",
    "b=7\n",
    "#(b)\n",
    "c=(a+b)/2\n",
    "#(c)\n",
    "inventory=['paper','staples','pencils']\n",
    "#(d)\n",
    "first='John'\n",
    "middle='Fitzgerald'\n",
    "last='Kennedy'\n",
    "#(e)\n",
    "fullname=first+middle+last"
   ]
  },
  {
   "cell_type": "markdown",
   "metadata": {},
   "source": [
    "2.17\n",
    "\n",
    "Using variables defined in Exercise 2.16, write Boolean expressions corresponding to\n",
    "the following logical statements and evaluate the expressions:\n",
    "(a) The sum of 17 and −9 is less than 10.\n",
    "(b) The length of list inventory is more than five times the length of string fullname.\n",
    "(c) c is no more than 24.\n",
    "(d) 6.75 is between the values of integers a and b.\n",
    "(e) The length of string middle is larger than the length of string first and smaller than\n",
    "the length string last.\n",
    "(f) Either the list inventory is empty or it has more than 10 objects in it.\n"
   ]
  },
  {
   "cell_type": "code",
   "execution_count": 9,
   "metadata": {},
   "outputs": [
    {
     "name": "stdout",
     "output_type": "stream",
     "text": [
      "True\n",
      "False\n",
      "True\n",
      "True\n",
      "False\n",
      "False\n"
     ]
    }
   ],
   "source": [
    "#(a)\n",
    "print(17+(-9)<10)\n",
    "#(b)\n",
    "print(len(inventory)>len(fullname)*5)\n",
    "#(c)\n",
    "print(c<=24)\n",
    "#(d)\n",
    "print(a<6.75<b)\n",
    "#(e)\n",
    "print(len(first)<len(middle)<len(last))\n",
    "#(f)\n",
    "print(len(inventory)==0 or len(inventory)>10)"
   ]
  },
  {
   "cell_type": "markdown",
   "metadata": {},
   "source": [
    "2.18\n",
    "\n",
    "Write Python statements corresponding to the following:\n",
    "(a) Assign to variable flowers a list containing strings 'rose', 'bougainvillea',\n",
    "'yucca', 'marigold', 'daylilly', and 'lilly of the valley'.\n",
    "(b) Write a Boolean expression that evaluates to True if string 'potato' is in list flowers,\n",
    "and evaluate the expression.\n",
    "(c) Assign to list thorny the sublist consisting of the first three objects in list flowers.\n",
    "(d) Assign to list poisonous the sublist consisting of just the last object of list flowers.\n",
    "(e) Assign to list dangerous the concatenation of lists thorny and poisonous."
   ]
  },
  {
   "cell_type": "code",
   "execution_count": 7,
   "metadata": {},
   "outputs": [
    {
     "name": "stdout",
     "output_type": "stream",
     "text": [
      "False\n"
     ]
    },
    {
     "data": {
      "text/plain": [
       "[['rose', 'bougainvillea'], 'lilly of the valley']"
      ]
     },
     "execution_count": 7,
     "metadata": {},
     "output_type": "execute_result"
    }
   ],
   "source": [
    "#(a)\n",
    "flowers=['rose','bougainvillea','yucca','marigold','daylilly','lilly of the valley']\n",
    "#(b)\n",
    "print('potato' in flowers)\n",
    "#(c)\n",
    "thorny=[flowers[:2]]\n",
    "#(d)\n",
    "poisonous=[flowers[-1]]\n",
    "#(e)\n",
    "dangerous=thorny+poisonous\n",
    "dangerous"
   ]
  },
  {
   "cell_type": "markdown",
   "metadata": {},
   "source": [
    "2.19\n",
    "\n",
    ">Start by assigning to variable answers a list containing an arbitrary sequence of strings\n",
    "'Y' and 'N'. For example:\n",
    "answers = ['Y', 'N', 'N', 'Y', 'N', 'Y', 'Y', 'Y', 'N', 'N', 'N']\n",
    "Write Python statements corresponding to the following:\n",
    "(a) Assign to variable numYes the number of occurrences of 'Y' in list answers.\n",
    "(b) Assign to variable numNo the number of occurrences of 'N' in list answers.\n",
    "(c) Assign to variable percentYes the percentage of strings in answers that are 'Y'.\n",
    "(d) Sort the list answers.\n",
    "(e) Assign to variable f the index of the first occurrence of 'Y' in sorted list answers.\n"
   ]
  },
  {
   "cell_type": "code",
   "execution_count": 8,
   "metadata": {},
   "outputs": [],
   "source": [
    "answers=['Y','N','Y','Y','Y','N','Y','N','N']"
   ]
  },
  {
   "cell_type": "code",
   "execution_count": 11,
   "metadata": {},
   "outputs": [],
   "source": [
    "#(a)\n",
    "numYes=answers.count('Y')\n",
    "#(b)\n",
    "numNo=answers.count('N')\n",
    "#(c)\n",
    "percentYes=(numYes/numNo)*100\n",
    "#(d)\n",
    "answers.sort()\n",
    "#(e)\n",
    "f=answers.index('Y')"
   ]
  },
  {
   "cell_type": "markdown",
   "metadata": {},
   "source": [
    "2.20\n",
    "\n",
    ">Write an expression involving a three-letter string s that evaluates to a string whose\n",
    "characters are the characters of s in reverse order. If s is 'top', the expression should\n",
    "evaluate to 'pot'."
   ]
  },
  {
   "cell_type": "code",
   "execution_count": 15,
   "metadata": {},
   "outputs": [
    {
     "name": "stdout",
     "output_type": "stream",
     "text": [
      "cba\n"
     ]
    }
   ],
   "source": [
    "s='abc'\n",
    "print(s[::-1])"
   ]
  },
  {
   "cell_type": "markdown",
   "metadata": {},
   "source": [
    "2.21 \n",
    "\n",
    ">Write an expression involving strings s and t containing the last name and the first\n",
    "name, respectively, of a person that evaluates to the person’s initials. If the two strings con\u0002t"
   ]
  },
  {
   "cell_type": "code",
   "execution_count": 16,
   "metadata": {},
   "outputs": [
    {
     "name": "stdout",
     "output_type": "stream",
     "text": [
      "V V\n"
     ]
    }
   ],
   "source": [
    "s='Vijay'\n",
    "t='Venkitesh'\n",
    "print(s[0],t[0])"
   ]
  },
  {
   "cell_type": "markdown",
   "metadata": {},
   "source": [
    "2.22\n",
    "\n",
    "The range of a list of numbers is the largest difference between any two numbers in the\n",
    "list. Write a Python expression that computes the range of a list of numbers lst. If the list\n",
    "lst is, say, [3, 7, -2, 12], the expression should evaluate to 14 (the difference between\n",
    "12 and −2)."
   ]
  },
  {
   "cell_type": "code",
   "execution_count": 17,
   "metadata": {},
   "outputs": [],
   "source": [
    "x=[1,5,4,7,98,1,654,48,147,-8,-98,14]"
   ]
  },
  {
   "cell_type": "code",
   "execution_count": 18,
   "metadata": {},
   "outputs": [
    {
     "name": "stdout",
     "output_type": "stream",
     "text": [
      "752\n"
     ]
    }
   ],
   "source": [
    "print(max(x)-min(x))"
   ]
  }
 ],
 "metadata": {
  "kernelspec": {
   "display_name": "Python 3",
   "language": "python",
   "name": "python3"
  },
  "language_info": {
   "codemirror_mode": {
    "name": "ipython",
    "version": 3
   },
   "file_extension": ".py",
   "mimetype": "text/x-python",
   "name": "python",
   "nbconvert_exporter": "python",
   "pygments_lexer": "ipython3",
   "version": "3.8.5"
  }
 },
 "nbformat": 4,
 "nbformat_minor": 4
}
